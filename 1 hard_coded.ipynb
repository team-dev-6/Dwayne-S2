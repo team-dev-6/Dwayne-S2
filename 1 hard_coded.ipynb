{
 "cells": [
  {
   "cell_type": "code",
   "execution_count": 1,
   "metadata": {},
   "outputs": [],
   "source": [
    "import numpy as np\n",
    "import pandas as pd\n",
    "\n",
    "# Loading hard coded data in data frame\n",
    "df = pd.DataFrame(\n",
    "    [['Simba Beef Flavoured Potato Chips','Snacks','125g',18.49,13,15.99,21,15.49,5],\n",
    "    ['Lays Salted Potato Chips','Snacks','125g',19.49,11,18.99,18,17.99,16],\n",
    "    ['Coca-Cola Original Bottle','Beverages','2L',22.49,6,21.99,33,21.49,25],\n",
    "    ['Fanta Orange Bottle','Beverages','2L',22.49,4,19.99,16,19.49,28],\n",
    "    ['Cadbury Dairy Milk Chocolate Slab','Chocolates','80g',15.99,19,15.99,30,15.99,26],\n",
    "    ['Nestlé Quality Street Chocolates','Chocolates','500g',99.99,6,99.99,12,99.99,5],\n",
    "    ['Nescafé Gold Roasted Coffee ','Coffee','200g',109.99,12,109.99,55,109.99,46],\n",
    "    ['Jacobs Krönung Instant Coffee','Coffee','200g',109.99,15,104.00,21,109.99,58],\n",
    "    ['All Gold Tomato Sauce','Sauces','700ml',30.99,2,26.99,26,25.99,9],\n",
    "    ['Crosse & Blackwell Mayonnaise','Sauces','750g',33.99,4,31.99,22,29.99,29]],\n",
    "    index = ['A001','A002','A003','A004','A005','A006','A007','A008','A009','A010'],\n",
    "    columns = ['Food Item','Category','Size','Woolworths','Stock_Quantity_W','Checkers','Stock_Quantity_C','Pick_n_Pay','Stock_Quantity_P'])\n",
    "df=df.to_csv(\"text.csv\")\n",
    "df"
   ]
  },
  {
   "cell_type": "code",
   "execution_count": null,
   "metadata": {},
   "outputs": [],
   "source": []
  }
 ],
 "metadata": {
  "kernelspec": {
   "display_name": "Python 3",
   "language": "python",
   "name": "python3"
  },
  "language_info": {
   "codemirror_mode": {
    "name": "ipython",
    "version": 3
   },
   "file_extension": ".py",
   "mimetype": "text/x-python",
   "name": "python",
   "nbconvert_exporter": "python",
   "pygments_lexer": "ipython3",
   "version": "3.7.4"
  }
 },
 "nbformat": 4,
 "nbformat_minor": 2
}
