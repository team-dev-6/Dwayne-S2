{
 "cells": [
  {
   "cell_type": "code",
   "execution_count": 30,
   "metadata": {},
   "outputs": [
    {
     "data": {
      "text/html": [
       "<div>\n",
       "<style scoped>\n",
       "    .dataframe tbody tr th:only-of-type {\n",
       "        vertical-align: middle;\n",
       "    }\n",
       "\n",
       "    .dataframe tbody tr th {\n",
       "        vertical-align: top;\n",
       "    }\n",
       "\n",
       "    .dataframe thead th {\n",
       "        text-align: right;\n",
       "    }\n",
       "</style>\n",
       "<table border=\"1\" class=\"dataframe\">\n",
       "  <thead>\n",
       "    <tr style=\"text-align: right;\">\n",
       "      <th></th>\n",
       "      <th>Woolworths</th>\n",
       "      <th>Checkers</th>\n",
       "      <th>Pick_n_Pay</th>\n",
       "    </tr>\n",
       "  </thead>\n",
       "  <tbody>\n",
       "    <tr>\n",
       "      <td>A001</td>\n",
       "      <td>18.49</td>\n",
       "      <td>15.99</td>\n",
       "      <td>15.49</td>\n",
       "    </tr>\n",
       "    <tr>\n",
       "      <td>A002</td>\n",
       "      <td>19.49</td>\n",
       "      <td>18.99</td>\n",
       "      <td>17.99</td>\n",
       "    </tr>\n",
       "    <tr>\n",
       "      <td>A003</td>\n",
       "      <td>22.49</td>\n",
       "      <td>21.99</td>\n",
       "      <td>21.49</td>\n",
       "    </tr>\n",
       "    <tr>\n",
       "      <td>A004</td>\n",
       "      <td>22.49</td>\n",
       "      <td>19.99</td>\n",
       "      <td>19.49</td>\n",
       "    </tr>\n",
       "    <tr>\n",
       "      <td>A005</td>\n",
       "      <td>15.99</td>\n",
       "      <td>15.99</td>\n",
       "      <td>15.99</td>\n",
       "    </tr>\n",
       "    <tr>\n",
       "      <td>A006</td>\n",
       "      <td>99.99</td>\n",
       "      <td>99.99</td>\n",
       "      <td>99.99</td>\n",
       "    </tr>\n",
       "    <tr>\n",
       "      <td>A007</td>\n",
       "      <td>109.99</td>\n",
       "      <td>109.99</td>\n",
       "      <td>109.99</td>\n",
       "    </tr>\n",
       "    <tr>\n",
       "      <td>A008</td>\n",
       "      <td>109.99</td>\n",
       "      <td>104.00</td>\n",
       "      <td>109.99</td>\n",
       "    </tr>\n",
       "    <tr>\n",
       "      <td>A009</td>\n",
       "      <td>30.99</td>\n",
       "      <td>26.99</td>\n",
       "      <td>25.99</td>\n",
       "    </tr>\n",
       "    <tr>\n",
       "      <td>A010</td>\n",
       "      <td>33.99</td>\n",
       "      <td>31.99</td>\n",
       "      <td>29.99</td>\n",
       "    </tr>\n",
       "  </tbody>\n",
       "</table>\n",
       "</div>"
      ],
      "text/plain": [
       "      Woolworths  Checkers  Pick_n_Pay\n",
       "A001       18.49     15.99       15.49\n",
       "A002       19.49     18.99       17.99\n",
       "A003       22.49     21.99       21.49\n",
       "A004       22.49     19.99       19.49\n",
       "A005       15.99     15.99       15.99\n",
       "A006       99.99     99.99       99.99\n",
       "A007      109.99    109.99      109.99\n",
       "A008      109.99    104.00      109.99\n",
       "A009       30.99     26.99       25.99\n",
       "A010       33.99     31.99       29.99"
      ]
     },
     "execution_count": 30,
     "metadata": {},
     "output_type": "execute_result"
    }
   ],
   "source": [
    "import pandas as pd\n",
    "\n",
    "df = pd.read_csv(\"Food.csv\")\n",
    "\n",
    "# applying filter function to coloumns to compare prices\n",
    "df.filter(['Woolworths','Checkers','Pick_n_Pay'])"
   ]
  },
  {
   "cell_type": "code",
   "execution_count": 31,
   "metadata": {},
   "outputs": [
    {
     "data": {
      "image/png": "[encoded data removed]",
      "text/plain": [
       "<Figure size 432x288 with 1 Axes>"
      ]
     },
     "metadata": {
      "needs_background": "light"
     },
     "output_type": "display_data"
    }
   ],
   "source": [
    "import pandas as pd\n",
    "from matplotlib import pyplot as plt\n",
    "\n",
    "df = pd.read_csv(\"Food.csv\")\n",
    "\n",
    "# apply matploblib to illustrate price comaparison\n",
    "df.plot(x='Food_Item',y=['Woolworths','Checkers','Pick_n_Pay'], kind = 'bar')\n",
    "plt.show()"
   ]
  },
  {
   "cell_type": "code",
   "execution_count": null,
   "metadata": {},
   "outputs": [],
   "source": []
  }
 ],
 "metadata": {
  "kernelspec": {
   "display_name": "Python 3",
   "language": "python",
   "name": "python3"
  },
  "language_info": {
   "codemirror_mode": {
    "name": "ipython",
    "version": 3
   },
   "file_extension": ".py",
   "mimetype": "text/x-python",
   "name": "python",
   "nbconvert_exporter": "python",
   "pygments_lexer": "ipython3",
   "version": "3.7.4"
  }
 },
 "nbformat": 4,
 "nbformat_minor": 2
}
